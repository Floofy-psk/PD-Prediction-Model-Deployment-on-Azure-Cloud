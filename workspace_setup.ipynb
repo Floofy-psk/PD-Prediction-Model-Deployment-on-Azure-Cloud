{
 "cells": [
  {
   "cell_type": "code",
   "execution_count": null,
   "metadata": {},
   "outputs": [],
   "source": [
    "import azure.core\n",
    "from azureml.core import Workspace,Environment,Experiment,ScriptRunConfig\n",
    "from azureml.core.compute import AmlCompute, ComputeTarget\n",
    "from azureml.core.compute_target import ComputeTargetException"
   ]
  },
  {
   "cell_type": "code",
   "execution_count": null,
   "metadata": {},
   "outputs": [],
   "source": [
    "resource_name = \"mri_project_rg\"\n",
    "workspace_name = \"mri_project_workspace\"\n",
    "subscriptionID = \"\" # Please enter your subscription id here\n",
    "aml_compute_target = \"mri-project-pd\" #ALL SMALL LETTER, NO underscore, 16ws long only.\n",
    "experiment_name= 'demo_expirement'"
   ]
  },
  {
   "cell_type": "code",
   "execution_count": null,
   "metadata": {},
   "outputs": [],
   "source": [
    "# Now create Workspace\n",
    "try:\n",
    "    ws=Workspace.from_config()\n",
    "    print('Workspace already exists')\n",
    "except:\n",
    "    ws=Workspace.create(workspace_name, \n",
    "                    resource_group=resource_name,\n",
    "                    create_resource_group=True,\n",
    "                    subscription_id=subscriptionID,\n",
    "                    location=\"East US\")\n",
    "    ws.write_config('.azureml')"
   ]
  },
  {
   "cell_type": "code",
   "execution_count": null,
   "metadata": {},
   "outputs": [],
   "source": [
    "Workspace.from_config()"
   ]
  },
  {
   "cell_type": "code",
   "execution_count": null,
   "metadata": {},
   "outputs": [],
   "source": [
    "# Create Compute Target\n",
    "try:\n",
    "    aml_compute = AmlCompute(ws, aml_compute_target)\n",
    "    print(\"This Compute Target already exists.\")\n",
    "except ComputeTargetException:\n",
    "    print(\"creating new compute target :\",aml_compute_target)\n",
    "    \n",
    "    provisioning_config = AmlCompute.provisioning_configuration(vm_size = \"STANDARD_D2_V2\",\n",
    "                                                                min_nodes = 1, \n",
    "                                                                max_nodes = 4,\n",
    "                                               idle_seconds_before_scaledown=3000)    \n",
    "    aml_compute = ComputeTarget.create(ws, aml_compute_target, provisioning_config)\n",
    "    aml_compute.wait_for_completion(show_output=True, min_node_count=None, timeout_in_minutes=20)\n",
    "    \n",
    "print(\"Azure Machine Learning Compute attached now\")"
   ]
  },
  {
   "cell_type": "code",
   "execution_count": null,
   "metadata": {},
   "outputs": [],
   "source": [
    "# Create Experiment\n",
    "exp = Experiment(ws,experiment_name)"
   ]
  }
 ],
 "metadata": {
  "language_info": {
   "name": "python"
  },
  "orig_nbformat": 4
 },
 "nbformat": 4,
 "nbformat_minor": 2
}
